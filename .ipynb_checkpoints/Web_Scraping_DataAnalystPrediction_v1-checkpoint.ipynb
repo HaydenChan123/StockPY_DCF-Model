{
 "cells": [
  {
   "cell_type": "code",
   "execution_count": 30,
   "id": "a50bf595",
   "metadata": {},
   "outputs": [
    {
     "data": {
      "text/html": [
       "<style>.container { width:100% !important; }</style>"
      ],
      "text/plain": [
       "<IPython.core.display.HTML object>"
      ]
     },
     "metadata": {},
     "output_type": "display_data"
    }
   ],
   "source": [
    "from IPython.core.display import display, HTML\n",
    "display(HTML(\"<style>.container { width:100% !important; }</style>\"))"
   ]
  },
  {
   "cell_type": "code",
   "execution_count": 1,
   "id": "6fc6c7fe",
   "metadata": {},
   "outputs": [],
   "source": [
    "import requests\n",
    "from bs4 import BeautifulSoup\n",
    "\n",
    "#If 404 error meaning some website need to know more information in requests to give you access to this page \n",
    "#     => need to define user-agent from this (http://httpbin.org/get)\n",
    "\n",
    "headers = {'User-Agent': 'Mozilla/5.0'}\n",
    "\n",
    "url = \"https://finance.yahoo.com/quote/AAPL/analysis?p=AAPL\"\n",
    "\n",
    "r = requests.get(url, headers=headers)\n",
    "# print(r.text)\n",
    "\n",
    "soup = BeautifulSoup(r.text, 'html.parser')\n",
    "# print(soup.prettify())\n",
    "# print(soup)"
   ]
  },
  {
   "cell_type": "code",
   "execution_count": 4,
   "id": "534f73b1",
   "metadata": {},
   "outputs": [
    {
     "name": "stdout",
     "output_type": "stream",
     "text": [
      "[<tbody data-reactid=\"30\"><tr class=\"BdT Bdc($seperatorColor)\" data-reactid=\"31\"><td class=\"Py(10px) Ta(start)\" data-reactid=\"32\"><span data-reactid=\"33\">No. of Analysts</span></td><td class=\"Ta(end)\" data-reactid=\"34\"><span class=\"Trsdu(0.3s)\" data-reactid=\"35\">25</span></td><td class=\"Ta(end)\" data-reactid=\"36\"><span class=\"Trsdu(0.3s)\" data-reactid=\"37\">24</span></td><td class=\"Ta(end)\" data-reactid=\"38\"><span class=\"Trsdu(0.3s)\" data-reactid=\"39\">37</span></td><td class=\"Ta(end)\" data-reactid=\"40\"><span class=\"Trsdu(0.3s)\" data-reactid=\"41\">33</span></td></tr><tr class=\"BdT Bdc($seperatorColor)\" data-reactid=\"42\"><td class=\"Py(10px) Ta(start)\" data-reactid=\"43\"><span data-reactid=\"44\">Avg. Estimate</span></td><td class=\"Ta(end)\" data-reactid=\"45\"><span class=\"Trsdu(0.3s)\" data-reactid=\"46\">1.88</span></td><td class=\"Ta(end)\" data-reactid=\"47\"><span class=\"Trsdu(0.3s)\" data-reactid=\"48\">1.32</span></td><td class=\"Ta(end)\" data-reactid=\"49\"><span class=\"Trsdu(0.3s)\" data-reactid=\"50\">5.74</span></td><td class=\"Ta(end)\" data-reactid=\"51\"><span class=\"Trsdu(0.3s)\" data-reactid=\"52\">6.18</span></td></tr><tr class=\"BdT Bdc($seperatorColor)\" data-reactid=\"53\"><td class=\"Py(10px) Ta(start)\" data-reactid=\"54\"><span data-reactid=\"55\">Low Estimate</span></td><td class=\"Ta(end)\" data-reactid=\"56\"><span class=\"Trsdu(0.3s)\" data-reactid=\"57\">1.75</span></td><td class=\"Ta(end)\" data-reactid=\"58\"><span class=\"Trsdu(0.3s)\" data-reactid=\"59\">1.16</span></td><td class=\"Ta(end)\" data-reactid=\"60\"><span class=\"Trsdu(0.3s)\" data-reactid=\"61\">5.2</span></td><td class=\"Ta(end)\" data-reactid=\"62\"><span class=\"Trsdu(0.3s)\" data-reactid=\"63\">5.26</span></td></tr><tr class=\"BdT Bdc($seperatorColor)\" data-reactid=\"64\"><td class=\"Py(10px) Ta(start)\" data-reactid=\"65\"><span data-reactid=\"66\">High Estimate</span></td><td class=\"Ta(end)\" data-reactid=\"67\"><span class=\"Trsdu(0.3s)\" data-reactid=\"68\">1.97</span></td><td class=\"Ta(end)\" data-reactid=\"69\"><span class=\"Trsdu(0.3s)\" data-reactid=\"70\">1.52</span></td><td class=\"Ta(end)\" data-reactid=\"71\"><span class=\"Trsdu(0.3s)\" data-reactid=\"72\">6.27</span></td><td class=\"Ta(end)\" data-reactid=\"73\"><span class=\"Trsdu(0.3s)\" data-reactid=\"74\">6.82</span></td></tr><tr class=\"BdT Bdc($seperatorColor)\" data-reactid=\"75\"><td class=\"Py(10px) Ta(start)\" data-reactid=\"76\"><span data-reactid=\"77\">Year Ago EPS</span></td><td class=\"Ta(end)\" data-reactid=\"78\"><span class=\"Trsdu(0.3s)\" data-reactid=\"79\">1.68</span></td><td class=\"Ta(end)\" data-reactid=\"80\"><span class=\"Trsdu(0.3s)\" data-reactid=\"81\">1.4</span></td><td class=\"Ta(end)\" data-reactid=\"82\"><span class=\"Trsdu(0.3s)\" data-reactid=\"83\">5.61</span></td><td class=\"Ta(end)\" data-reactid=\"84\"><span class=\"Trsdu(0.3s)\" data-reactid=\"85\">5.74</span></td></tr></tbody>]\n"
     ]
    }
   ],
   "source": [
    "gdp_table = soup.find(\"table\", attrs={\"class\": \"W(100%) M(0) BdB Bdc($seperatorColor) Mb(25px)\"})\n",
    "gdp_table_data = gdp_table.thead.find_all(\"th\")\n",
    "tablebody = gdp_table.find_all(\"tbody\")\n",
    "\n",
    "print(tablebody)\n",
    "\n"
   ]
  },
  {
   "cell_type": "code",
   "execution_count": 5,
   "id": "24f701bf",
   "metadata": {},
   "outputs": [
    {
     "data": {
      "text/plain": [
       "['Earnings Estimate',\n",
       " 'Current Qtr. (Dec 2021)',\n",
       " 'Next Qtr. (Mar 2022)',\n",
       " 'Current Year (2022)',\n",
       " 'Next Year (2023)']"
      ]
     },
     "execution_count": 5,
     "metadata": {},
     "output_type": "execute_result"
    }
   ],
   "source": [
    "headingitem = []\n",
    "for i in gdp_table_data:\n",
    "#     print(i.text)\n",
    "    headingitem.append(i.text)\n",
    "    \n",
    "headingitem"
   ]
  },
  {
   "cell_type": "code",
   "execution_count": 6,
   "id": "dfc7b2c2",
   "metadata": {},
   "outputs": [
    {
     "name": "stdout",
     "output_type": "stream",
     "text": [
      "[['No. of Analysts', '25', '24', '37', '33'], ['Avg. Estimate', '1.88', '1.32', '5.74', '6.18'], ['Low Estimate', '1.75', '1.16', '5.2', '5.26'], ['High Estimate', '1.97', '1.52', '6.27', '6.82'], ['Year Ago EPS', '1.68', '1.4', '5.61', '5.74']]\n"
     ]
    }
   ],
   "source": [
    "table_data = []\n",
    "\n",
    "for body in tablebody:\n",
    "    for row in body:\n",
    "        row_list = []\n",
    "        for item in row:\n",
    "#             print(item.text)\n",
    "            row_list.append(item.text)        \n",
    "#         print('================')\n",
    "        table_data.append(row_list)\n",
    "    \n",
    "print(table_data)\n"
   ]
  },
  {
   "cell_type": "code",
   "execution_count": 7,
   "id": "1de16292",
   "metadata": {},
   "outputs": [
    {
     "data": {
      "text/html": [
       "<div>\n",
       "<style scoped>\n",
       "    .dataframe tbody tr th:only-of-type {\n",
       "        vertical-align: middle;\n",
       "    }\n",
       "\n",
       "    .dataframe tbody tr th {\n",
       "        vertical-align: top;\n",
       "    }\n",
       "\n",
       "    .dataframe thead tr th {\n",
       "        text-align: left;\n",
       "    }\n",
       "</style>\n",
       "<table border=\"1\" class=\"dataframe\">\n",
       "  <thead>\n",
       "    <tr>\n",
       "      <th></th>\n",
       "      <th>Earnings Estimate</th>\n",
       "      <th>Current Qtr. (Dec 2021)</th>\n",
       "      <th>Next Qtr. (Mar 2022)</th>\n",
       "      <th>Current Year (2022)</th>\n",
       "      <th>Next Year (2023)</th>\n",
       "    </tr>\n",
       "  </thead>\n",
       "  <tbody>\n",
       "    <tr>\n",
       "      <th>0</th>\n",
       "      <td>No. of Analysts</td>\n",
       "      <td>25</td>\n",
       "      <td>24</td>\n",
       "      <td>37</td>\n",
       "      <td>33</td>\n",
       "    </tr>\n",
       "    <tr>\n",
       "      <th>1</th>\n",
       "      <td>Avg. Estimate</td>\n",
       "      <td>1.88</td>\n",
       "      <td>1.32</td>\n",
       "      <td>5.74</td>\n",
       "      <td>6.18</td>\n",
       "    </tr>\n",
       "    <tr>\n",
       "      <th>2</th>\n",
       "      <td>Low Estimate</td>\n",
       "      <td>1.75</td>\n",
       "      <td>1.16</td>\n",
       "      <td>5.2</td>\n",
       "      <td>5.26</td>\n",
       "    </tr>\n",
       "    <tr>\n",
       "      <th>3</th>\n",
       "      <td>High Estimate</td>\n",
       "      <td>1.97</td>\n",
       "      <td>1.52</td>\n",
       "      <td>6.27</td>\n",
       "      <td>6.82</td>\n",
       "    </tr>\n",
       "    <tr>\n",
       "      <th>4</th>\n",
       "      <td>Year Ago EPS</td>\n",
       "      <td>1.68</td>\n",
       "      <td>1.4</td>\n",
       "      <td>5.61</td>\n",
       "      <td>5.74</td>\n",
       "    </tr>\n",
       "  </tbody>\n",
       "</table>\n",
       "</div>"
      ],
      "text/plain": [
       "  Earnings Estimate Current Qtr. (Dec 2021) Next Qtr. (Mar 2022)  \\\n",
       "0   No. of Analysts                      25                   24   \n",
       "1     Avg. Estimate                    1.88                 1.32   \n",
       "2      Low Estimate                    1.75                 1.16   \n",
       "3     High Estimate                    1.97                 1.52   \n",
       "4      Year Ago EPS                    1.68                  1.4   \n",
       "\n",
       "  Current Year (2022) Next Year (2023)  \n",
       "0                  37               33  \n",
       "1                5.74             6.18  \n",
       "2                 5.2             5.26  \n",
       "3                6.27             6.82  \n",
       "4                5.61             5.74  "
      ]
     },
     "execution_count": 7,
     "metadata": {},
     "output_type": "execute_result"
    }
   ],
   "source": [
    "import pandas as pd\n",
    "\n",
    "df = pd.DataFrame(table_data, columns = [headingitem])\n",
    "df"
   ]
  },
  {
   "cell_type": "code",
   "execution_count": 95,
   "id": "5190150e",
   "metadata": {},
   "outputs": [
    {
     "data": {
      "text/plain": [
       "'Revenue EstimateCurrent Qtr. (Dec 2021)Next Qtr. (Mar 2022)Current Year (2022)Next Year (2023)No. of Analysts22223631Avg. Estimate118.18B90.42B381.72B401.2BLow Estimate111.81B83.26B359.16B300.5BHigh Estimate121.3B98.28B405.44B445.58BYear Ago SalesN/AN/A365.82B381.72BSales Growth (year/est)N/AN/A4.30%5.10%'"
      ]
     },
     "execution_count": 95,
     "metadata": {},
     "output_type": "execute_result"
    }
   ],
   "source": [
    "gdp_table = soup.find_all(\"table\", attrs={\"class\": \"W(100%) M(0) BdB Bdc($seperatorColor) Mb(25px)\"})\n",
    "gdp_table[1].text"
   ]
  },
  {
   "cell_type": "code",
   "execution_count": 81,
   "id": "b4534c0f",
   "metadata": {},
   "outputs": [
    {
     "data": {
      "text/plain": [
       "'Earnings EstimateCurrent Qtr. (Dec 2021)Next Qtr. (Mar 2022)Current Year (2022)Next Year (2023)No. of Analysts25243733Avg. Estimate1.881.325.746.18Low Estimate1.751.165.25.26High Estimate1.971.526.276.82Year Ago EPS1.681.45.615.74'"
      ]
     },
     "execution_count": 81,
     "metadata": {},
     "output_type": "execute_result"
    }
   ],
   "source": [
    "gdp_table_1.find_all('table')[0].text"
   ]
  },
  {
   "cell_type": "code",
   "execution_count": 70,
   "id": "f5e5faba",
   "metadata": {},
   "outputs": [
    {
     "name": "stdout",
     "output_type": "stream",
     "text": [
      "Current Year (2022)\n",
      "Next Year (2023)\n",
      "Current Qtr. (Dec 2021)\n",
      "Next Qtr. (Mar 2022)\n",
      "Revenue Estimate\n"
     ]
    },
    {
     "ename": "AttributeError",
     "evalue": "'NavigableString' object has no attribute 'text'",
     "output_type": "error",
     "traceback": [
      "\u001b[1;31m---------------------------------------------------------------------------\u001b[0m",
      "\u001b[1;31mAttributeError\u001b[0m                            Traceback (most recent call last)",
      "\u001b[1;32m<ipython-input-70-6d3b10f0f82b>\u001b[0m in \u001b[0;36m<module>\u001b[1;34m\u001b[0m\n\u001b[0;32m      8\u001b[0m         \u001b[1;32mfor\u001b[0m \u001b[0mitem\u001b[0m \u001b[1;32min\u001b[0m \u001b[0mrow\u001b[0m\u001b[1;33m:\u001b[0m\u001b[1;33m\u001b[0m\u001b[1;33m\u001b[0m\u001b[0m\n\u001b[0;32m      9\u001b[0m \u001b[1;31m#             item\u001b[0m\u001b[1;33m\u001b[0m\u001b[1;33m\u001b[0m\u001b[1;33m\u001b[0m\u001b[0m\n\u001b[1;32m---> 10\u001b[1;33m             \u001b[0mprint\u001b[0m\u001b[1;33m(\u001b[0m\u001b[0mitem\u001b[0m\u001b[1;33m.\u001b[0m\u001b[0mtext\u001b[0m\u001b[1;33m)\u001b[0m\u001b[1;33m\u001b[0m\u001b[1;33m\u001b[0m\u001b[0m\n\u001b[0m\u001b[0;32m     11\u001b[0m \u001b[1;33m\u001b[0m\u001b[0m\n\u001b[0;32m     12\u001b[0m \u001b[1;33m\u001b[0m\u001b[0m\n",
      "\u001b[1;32m~\\anaconda3\\lib\\site-packages\\bs4\\element.py\u001b[0m in \u001b[0;36m__getattr__\u001b[1;34m(self, attr)\u001b[0m\n\u001b[0;32m    919\u001b[0m             \u001b[1;32mreturn\u001b[0m \u001b[0mself\u001b[0m\u001b[1;33m\u001b[0m\u001b[1;33m\u001b[0m\u001b[0m\n\u001b[0;32m    920\u001b[0m         \u001b[1;32melse\u001b[0m\u001b[1;33m:\u001b[0m\u001b[1;33m\u001b[0m\u001b[1;33m\u001b[0m\u001b[0m\n\u001b[1;32m--> 921\u001b[1;33m             raise AttributeError(\n\u001b[0m\u001b[0;32m    922\u001b[0m                 \"'%s' object has no attribute '%s'\" % (\n\u001b[0;32m    923\u001b[0m                     self.__class__.__name__, attr))\n",
      "\u001b[1;31mAttributeError\u001b[0m: 'NavigableString' object has no attribute 'text'"
     ]
    }
   ],
   "source": [
    "gdp_table_1  = soup.find(\"section\", attrs={\"data-test\": \"qsp-analyst\"})\n",
    "\n",
    "tables = []\n",
    "for table in gdp_table_1.find_all('table')[1]:\n",
    "    for row in table:\n",
    "        \n",
    "#         print(row.text)\n",
    "        for item in row:\n",
    "#             item\n",
    "            print(item.text)\n",
    "            \n",
    "            \n",
    "#             row.append(item.text)\n",
    "#     print('======')\n",
    "#     for row in table:/\n",
    "# row"
   ]
  },
  {
   "cell_type": "code",
   "execution_count": 60,
   "id": "32798c4f",
   "metadata": {},
   "outputs": [
    {
     "data": {
      "text/plain": [
       "<section class=\"smartphone_Px(20px) smartphone_Pt(10px)\" data-reactid=\"2\" data-test=\"qsp-analyst\" data-yaft-module=\"tdv2-applet-AnalystLeafPage\"><div class=\"Fz(xs) C($tertiaryColor) Mb(5px) Fl(end) smartphone_D(n)\" data-reactid=\"3\"><span data-reactid=\"4\">Currency in USD</span></div><table class=\"W(100%) M(0) BdB Bdc($seperatorColor) Mb(25px)\" data-reactid=\"5\"><thead data-reactid=\"6\"><tr class=\"Ta(start)\" data-reactid=\"7\"><th class=\"Fw(b) Fw(s) W(20%) Py(10px) C($primaryColor)\" data-reactid=\"8\"><span data-reactid=\"9\">Earnings Estimate</span></th><th class=\"Fw(400) W(20%) Fz(xs) C($tertiaryColor) Ta(end)\" data-reactid=\"10\"><span data-reactid=\"11\"><span data-reactid=\"12\">Current Qtr.</span><!-- react-text: 13 --> (<!-- /react-text --><span data-reactid=\"14\">Dec</span><!-- react-text: 15 --> 2021)<!-- /react-text --></span></th><th class=\"Fw(400) W(20%) Fz(xs) C($tertiaryColor) Ta(end)\" data-reactid=\"16\"><span data-reactid=\"17\"><span data-reactid=\"18\">Next Qtr.</span><!-- react-text: 19 --> (<!-- /react-text --><span data-reactid=\"20\">Mar</span><!-- react-text: 21 --> 2022)<!-- /react-text --></span></th><th class=\"Fw(400) W(20%) Fz(xs) C($tertiaryColor) Ta(end)\" data-reactid=\"22\"><span data-reactid=\"23\"><span data-reactid=\"24\">Current Year</span><!-- react-text: 25 --> (2022)<!-- /react-text --></span></th><th class=\"Fw(400) W(20%) Fz(xs) C($tertiaryColor) Ta(end)\" data-reactid=\"26\"><span data-reactid=\"27\"><span data-reactid=\"28\">Next Year</span><!-- react-text: 29 --> (2023)<!-- /react-text --></span></th></tr></thead><tbody data-reactid=\"30\"><tr class=\"BdT Bdc($seperatorColor)\" data-reactid=\"31\"><td class=\"Py(10px) Ta(start)\" data-reactid=\"32\"><span data-reactid=\"33\">No. of Analysts</span></td><td class=\"Ta(end)\" data-reactid=\"34\"><span class=\"Trsdu(0.3s)\" data-reactid=\"35\">25</span></td><td class=\"Ta(end)\" data-reactid=\"36\"><span class=\"Trsdu(0.3s)\" data-reactid=\"37\">24</span></td><td class=\"Ta(end)\" data-reactid=\"38\"><span class=\"Trsdu(0.3s)\" data-reactid=\"39\">37</span></td><td class=\"Ta(end)\" data-reactid=\"40\"><span class=\"Trsdu(0.3s)\" data-reactid=\"41\">33</span></td></tr><tr class=\"BdT Bdc($seperatorColor)\" data-reactid=\"42\"><td class=\"Py(10px) Ta(start)\" data-reactid=\"43\"><span data-reactid=\"44\">Avg. Estimate</span></td><td class=\"Ta(end)\" data-reactid=\"45\"><span class=\"Trsdu(0.3s)\" data-reactid=\"46\">1.88</span></td><td class=\"Ta(end)\" data-reactid=\"47\"><span class=\"Trsdu(0.3s)\" data-reactid=\"48\">1.32</span></td><td class=\"Ta(end)\" data-reactid=\"49\"><span class=\"Trsdu(0.3s)\" data-reactid=\"50\">5.74</span></td><td class=\"Ta(end)\" data-reactid=\"51\"><span class=\"Trsdu(0.3s)\" data-reactid=\"52\">6.18</span></td></tr><tr class=\"BdT Bdc($seperatorColor)\" data-reactid=\"53\"><td class=\"Py(10px) Ta(start)\" data-reactid=\"54\"><span data-reactid=\"55\">Low Estimate</span></td><td class=\"Ta(end)\" data-reactid=\"56\"><span class=\"Trsdu(0.3s)\" data-reactid=\"57\">1.75</span></td><td class=\"Ta(end)\" data-reactid=\"58\"><span class=\"Trsdu(0.3s)\" data-reactid=\"59\">1.16</span></td><td class=\"Ta(end)\" data-reactid=\"60\"><span class=\"Trsdu(0.3s)\" data-reactid=\"61\">5.2</span></td><td class=\"Ta(end)\" data-reactid=\"62\"><span class=\"Trsdu(0.3s)\" data-reactid=\"63\">5.26</span></td></tr><tr class=\"BdT Bdc($seperatorColor)\" data-reactid=\"64\"><td class=\"Py(10px) Ta(start)\" data-reactid=\"65\"><span data-reactid=\"66\">High Estimate</span></td><td class=\"Ta(end)\" data-reactid=\"67\"><span class=\"Trsdu(0.3s)\" data-reactid=\"68\">1.97</span></td><td class=\"Ta(end)\" data-reactid=\"69\"><span class=\"Trsdu(0.3s)\" data-reactid=\"70\">1.52</span></td><td class=\"Ta(end)\" data-reactid=\"71\"><span class=\"Trsdu(0.3s)\" data-reactid=\"72\">6.27</span></td><td class=\"Ta(end)\" data-reactid=\"73\"><span class=\"Trsdu(0.3s)\" data-reactid=\"74\">6.82</span></td></tr><tr class=\"BdT Bdc($seperatorColor)\" data-reactid=\"75\"><td class=\"Py(10px) Ta(start)\" data-reactid=\"76\"><span data-reactid=\"77\">Year Ago EPS</span></td><td class=\"Ta(end)\" data-reactid=\"78\"><span class=\"Trsdu(0.3s)\" data-reactid=\"79\">1.68</span></td><td class=\"Ta(end)\" data-reactid=\"80\"><span class=\"Trsdu(0.3s)\" data-reactid=\"81\">1.4</span></td><td class=\"Ta(end)\" data-reactid=\"82\"><span class=\"Trsdu(0.3s)\" data-reactid=\"83\">5.61</span></td><td class=\"Ta(end)\" data-reactid=\"84\"><span class=\"Trsdu(0.3s)\" data-reactid=\"85\">5.74</span></td></tr></tbody></table><table class=\"W(100%) M(0) BdB Bdc($seperatorColor) Mb(25px)\" data-reactid=\"86\"><thead data-reactid=\"87\"><tr class=\"Ta(start)\" data-reactid=\"88\"><th class=\"Fw(400) W(20%) Fz(xs) C($tertiaryColor) Ta(end)\" data-reactid=\"103\"><span data-reactid=\"104\"><span data-reactid=\"105\">Current Year</span><!-- react-text: 106 --> (2022)<!-- /react-text --></span></th><th class=\"Fw(400) W(20%) Fz(xs) C($tertiaryColor) Ta(end)\" data-reactid=\"107\"><span data-reactid=\"108\"><span data-reactid=\"109\">Next Year</span><!-- react-text: 110 --> (2023)<!-- /react-text --></span></th><th class=\"Fw(400) W(20%) Fz(xs) C($tertiaryColor) Ta(end)\" data-reactid=\"91\"><span data-reactid=\"92\"><span data-reactid=\"93\">Current Qtr.</span><!-- react-text: 94 --> (<!-- /react-text --><span data-reactid=\"95\">Dec</span><!-- react-text: 96 --> 2021)<!-- /react-text --></span></th><th class=\"Fw(400) W(20%) Fz(xs) C($tertiaryColor) Ta(end)\" data-reactid=\"97\"><span data-reactid=\"98\"><span data-reactid=\"99\">Next Qtr.</span><!-- react-text: 100 --> (<!-- /react-text --><span data-reactid=\"101\">Mar</span><!-- react-text: 102 --> 2022)<!-- /react-text --></span></th><th class=\"Fw(b) Fw(s) W(20%) Py(10px) C($primaryColor)\" data-reactid=\"89\"><span data-reactid=\"90\">Revenue Estimate</span></th>Current Year (2022)Next Year (2023)Current Qtr. (Dec 2021)Next Qtr. (Mar 2022)Revenue Estimate</tr></thead><tbody data-reactid=\"111\"><tr class=\"BdT Bdc($seperatorColor)\" data-reactid=\"112\"><td class=\"Ta(end)\" data-reactid=\"119\"><span class=\"Trsdu(0.3s)\" data-reactid=\"120\">36</span></td><td class=\"Ta(end)\" data-reactid=\"121\"><span class=\"Trsdu(0.3s)\" data-reactid=\"122\">31</span></td><td class=\"Ta(end)\" data-reactid=\"115\"><span class=\"Trsdu(0.3s)\" data-reactid=\"116\">22</span></td><td class=\"Ta(end)\" data-reactid=\"117\"><span class=\"Trsdu(0.3s)\" data-reactid=\"118\">22</span></td><td class=\"Py(10px) Ta(start)\" data-reactid=\"113\"><span data-reactid=\"114\">No. of Analysts</span></td></tr><tr class=\"BdT Bdc($seperatorColor)\" data-reactid=\"123\"><td class=\"Ta(end)\" data-reactid=\"130\"><span class=\"Trsdu(0.3s)\" data-reactid=\"131\">381.72B</span></td><td class=\"Ta(end)\" data-reactid=\"132\"><span class=\"Trsdu(0.3s)\" data-reactid=\"133\">401.2B</span></td><td class=\"Ta(end)\" data-reactid=\"126\"><span class=\"Trsdu(0.3s)\" data-reactid=\"127\">118.18B</span></td><td class=\"Ta(end)\" data-reactid=\"128\"><span class=\"Trsdu(0.3s)\" data-reactid=\"129\">90.42B</span></td><td class=\"Py(10px) Ta(start)\" data-reactid=\"124\"><span data-reactid=\"125\">Avg. Estimate</span></td></tr><tr class=\"BdT Bdc($seperatorColor)\" data-reactid=\"134\"><td class=\"Ta(end)\" data-reactid=\"141\"><span class=\"Trsdu(0.3s)\" data-reactid=\"142\">359.16B</span></td><td class=\"Ta(end)\" data-reactid=\"143\"><span class=\"Trsdu(0.3s)\" data-reactid=\"144\">300.5B</span></td><td class=\"Ta(end)\" data-reactid=\"137\"><span class=\"Trsdu(0.3s)\" data-reactid=\"138\">111.81B</span></td><td class=\"Ta(end)\" data-reactid=\"139\"><span class=\"Trsdu(0.3s)\" data-reactid=\"140\">83.26B</span></td><td class=\"Py(10px) Ta(start)\" data-reactid=\"135\"><span data-reactid=\"136\">Low Estimate</span></td></tr><tr class=\"BdT Bdc($seperatorColor)\" data-reactid=\"145\"><td class=\"Ta(end)\" data-reactid=\"152\"><span class=\"Trsdu(0.3s)\" data-reactid=\"153\">405.44B</span></td><td class=\"Ta(end)\" data-reactid=\"154\"><span class=\"Trsdu(0.3s)\" data-reactid=\"155\">445.58B</span></td><td class=\"Ta(end)\" data-reactid=\"148\"><span class=\"Trsdu(0.3s)\" data-reactid=\"149\">121.3B</span></td><td class=\"Ta(end)\" data-reactid=\"150\"><span class=\"Trsdu(0.3s)\" data-reactid=\"151\">98.28B</span></td><td class=\"Py(10px) Ta(start)\" data-reactid=\"146\"><span data-reactid=\"147\">High Estimate</span></td></tr><tr class=\"BdT Bdc($seperatorColor)\" data-reactid=\"156\"><td class=\"Ta(end)\" data-reactid=\"163\"><span class=\"Trsdu(0.3s)\" data-reactid=\"164\">365.82B</span></td><td class=\"Ta(end)\" data-reactid=\"165\"><span class=\"Trsdu(0.3s)\" data-reactid=\"166\">381.72B</span></td><td class=\"Ta(end)\" data-reactid=\"159\"><span data-reactid=\"160\">N/A</span></td><td class=\"Ta(end)\" data-reactid=\"161\"><span data-reactid=\"162\">N/A</span></td><td class=\"Py(10px) Ta(start)\" data-reactid=\"157\"><span data-reactid=\"158\">Year Ago Sales</span></td></tr><tr class=\"BdT Bdc($seperatorColor)\" data-reactid=\"167\"><td class=\"Ta(end)\" data-reactid=\"174\"><span class=\"Trsdu(0.3s)\" data-reactid=\"175\">4.30%</span></td><td class=\"Ta(end)\" data-reactid=\"176\"><span class=\"Trsdu(0.3s)\" data-reactid=\"177\">5.10%</span></td><td class=\"Ta(end)\" data-reactid=\"170\"><span data-reactid=\"171\">N/A</span></td><td class=\"Ta(end)\" data-reactid=\"172\"><span data-reactid=\"173\">N/A</span></td><td class=\"Py(10px) Ta(start)\" data-reactid=\"168\"><span data-reactid=\"169\">Sales Growth (year/est)</span></td></tr></tbody></table><table class=\"W(100%) M(0) BdB Bdc($seperatorColor) Mb(25px)\" data-reactid=\"178\"><thead data-reactid=\"179\"><tr class=\"Ta(start)\" data-reactid=\"180\"><th class=\"Fw(b) Fw(s) W(20%) Py(10px) C($primaryColor)\" data-reactid=\"181\"><span data-reactid=\"182\">Earnings History</span></th><th class=\"Fw(400) W(20%) Fz(xs) C($tertiaryColor) Ta(end)\" data-reactid=\"183\"><span data-reactid=\"184\">12/30/2020</span></th><th class=\"Fw(400) W(20%) Fz(xs) C($tertiaryColor) Ta(end)\" data-reactid=\"185\"><span data-reactid=\"186\">3/30/2021</span></th><th class=\"Fw(400) W(20%) Fz(xs) C($tertiaryColor) Ta(end)\" data-reactid=\"187\"><span data-reactid=\"188\">6/29/2021</span></th><th class=\"Fw(400) W(20%) Fz(xs) C($tertiaryColor) Ta(end)\" data-reactid=\"189\"><span data-reactid=\"190\">9/29/2021</span></th></tr></thead><tbody data-reactid=\"191\"><tr class=\"BdT Bdc($seperatorColor)\" data-reactid=\"192\"><td class=\"Py(10px) Ta(start)\" data-reactid=\"193\"><span data-reactid=\"194\">EPS Est.</span></td><td class=\"Ta(end)\" data-reactid=\"195\"><span class=\"Trsdu(0.3s)\" data-reactid=\"196\">1.41</span></td><td class=\"Ta(end)\" data-reactid=\"197\"><span class=\"Trsdu(0.3s)\" data-reactid=\"198\">0.99</span></td><td class=\"Ta(end)\" data-reactid=\"199\"><span class=\"Trsdu(0.3s)\" data-reactid=\"200\">1.01</span></td><td class=\"Ta(end)\" data-reactid=\"201\"><span class=\"Trsdu(0.3s)\" data-reactid=\"202\">1.24</span></td></tr><tr class=\"BdT Bdc($seperatorColor)\" data-reactid=\"203\"><td class=\"Py(10px) Ta(start)\" data-reactid=\"204\"><span data-reactid=\"205\">EPS Actual</span></td><td class=\"Ta(end)\" data-reactid=\"206\"><span class=\"Trsdu(0.3s)\" data-reactid=\"207\">1.68</span></td><td class=\"Ta(end)\" data-reactid=\"208\"><span class=\"Trsdu(0.3s)\" data-reactid=\"209\">1.4</span></td><td class=\"Ta(end)\" data-reactid=\"210\"><span class=\"Trsdu(0.3s)\" data-reactid=\"211\">1.3</span></td><td class=\"Ta(end)\" data-reactid=\"212\"><span class=\"Trsdu(0.3s)\" data-reactid=\"213\">1.24</span></td></tr><tr class=\"BdT Bdc($seperatorColor)\" data-reactid=\"214\"><td class=\"Py(10px) Ta(start)\" data-reactid=\"215\"><span data-reactid=\"216\">Difference</span></td><td class=\"Ta(end)\" data-reactid=\"217\"><span class=\"Trsdu(0.3s)\" data-reactid=\"218\">0.27</span></td><td class=\"Ta(end)\" data-reactid=\"219\"><span class=\"Trsdu(0.3s)\" data-reactid=\"220\">0.41</span></td><td class=\"Ta(end)\" data-reactid=\"221\"><span class=\"Trsdu(0.3s)\" data-reactid=\"222\">0.29</span></td><td class=\"Ta(end)\" data-reactid=\"223\"><span class=\"Trsdu(0.3s)\" data-reactid=\"224\">0</span></td></tr><tr class=\"BdT Bdc($seperatorColor)\" data-reactid=\"225\"><td class=\"Py(10px) Ta(start)\" data-reactid=\"226\"><span data-reactid=\"227\">Surprise %</span></td><td class=\"Ta(end)\" data-reactid=\"228\"><span class=\"Trsdu(0.3s)\" data-reactid=\"229\">19.10%</span></td><td class=\"Ta(end)\" data-reactid=\"230\"><span class=\"Trsdu(0.3s)\" data-reactid=\"231\">41.40%</span></td><td class=\"Ta(end)\" data-reactid=\"232\"><span class=\"Trsdu(0.3s)\" data-reactid=\"233\">28.70%</span></td><td class=\"Ta(end)\" data-reactid=\"234\"><span class=\"Trsdu(0.3s)\" data-reactid=\"235\">0.00%</span></td></tr></tbody></table><table class=\"W(100%) M(0) BdB Bdc($seperatorColor) Mb(25px)\" data-reactid=\"236\"><thead data-reactid=\"237\"><tr class=\"Ta(start)\" data-reactid=\"238\"><th class=\"Fw(b) Fw(s) W(20%) Py(10px) C($primaryColor)\" data-reactid=\"239\"><span data-reactid=\"240\">EPS Trend</span></th><th class=\"Fw(400) W(20%) Fz(xs) C($tertiaryColor) Ta(end)\" data-reactid=\"241\"><span data-reactid=\"242\"><span data-reactid=\"243\">Current Qtr.</span><!-- react-text: 244 --> (<!-- /react-text --><span data-reactid=\"245\">Dec</span><!-- react-text: 246 --> 2021)<!-- /react-text --></span></th><th class=\"Fw(400) W(20%) Fz(xs) C($tertiaryColor) Ta(end)\" data-reactid=\"247\"><span data-reactid=\"248\"><span data-reactid=\"249\">Next Qtr.</span><!-- react-text: 250 --> (<!-- /react-text --><span data-reactid=\"251\">Mar</span><!-- react-text: 252 --> 2022)<!-- /react-text --></span></th><th class=\"Fw(400) W(20%) Fz(xs) C($tertiaryColor) Ta(end)\" data-reactid=\"253\"><span data-reactid=\"254\"><span data-reactid=\"255\">Current Year</span><!-- react-text: 256 --> (2022)<!-- /react-text --></span></th><th class=\"Fw(400) W(20%) Fz(xs) C($tertiaryColor) Ta(end)\" data-reactid=\"257\"><span data-reactid=\"258\"><span data-reactid=\"259\">Next Year</span><!-- react-text: 260 --> (2023)<!-- /react-text --></span></th></tr></thead><tbody data-reactid=\"261\"><tr class=\"BdT Bdc($seperatorColor)\" data-reactid=\"262\"><td class=\"Py(10px) Ta(start)\" data-reactid=\"263\"><span data-reactid=\"264\">Current Estimate</span></td><td class=\"Ta(end)\" data-reactid=\"265\"><span class=\"Trsdu(0.3s)\" data-reactid=\"266\">1.88</span></td><td class=\"Ta(end)\" data-reactid=\"267\"><span class=\"Trsdu(0.3s)\" data-reactid=\"268\">1.32</span></td><td class=\"Ta(end)\" data-reactid=\"269\"><span class=\"Trsdu(0.3s)\" data-reactid=\"270\">5.74</span></td><td class=\"Ta(end)\" data-reactid=\"271\"><span class=\"Trsdu(0.3s)\" data-reactid=\"272\">6.18</span></td></tr><tr class=\"BdT Bdc($seperatorColor)\" data-reactid=\"273\"><td class=\"Py(10px) Ta(start)\" data-reactid=\"274\"><span data-reactid=\"275\">7 Days Ago</span></td><td class=\"Ta(end)\" data-reactid=\"276\"><span class=\"Trsdu(0.3s)\" data-reactid=\"277\">1.88</span></td><td class=\"Ta(end)\" data-reactid=\"278\"><span class=\"Trsdu(0.3s)\" data-reactid=\"279\">1.32</span></td><td class=\"Ta(end)\" data-reactid=\"280\"><span class=\"Trsdu(0.3s)\" data-reactid=\"281\">5.74</span></td><td class=\"Ta(end)\" data-reactid=\"282\"><span class=\"Trsdu(0.3s)\" data-reactid=\"283\">6.18</span></td></tr><tr class=\"BdT Bdc($seperatorColor)\" data-reactid=\"284\"><td class=\"Py(10px) Ta(start)\" data-reactid=\"285\"><span data-reactid=\"286\">30 Days Ago</span></td><td class=\"Ta(end)\" data-reactid=\"287\"><span class=\"Trsdu(0.3s)\" data-reactid=\"288\">1.88</span></td><td class=\"Ta(end)\" data-reactid=\"289\"><span class=\"Trsdu(0.3s)\" data-reactid=\"290\">1.32</span></td><td class=\"Ta(end)\" data-reactid=\"291\"><span class=\"Trsdu(0.3s)\" data-reactid=\"292\">5.75</span></td><td class=\"Ta(end)\" data-reactid=\"293\"><span class=\"Trsdu(0.3s)\" data-reactid=\"294\">6.15</span></td></tr><tr class=\"BdT Bdc($seperatorColor)\" data-reactid=\"295\"><td class=\"Py(10px) Ta(start)\" data-reactid=\"296\"><span data-reactid=\"297\">60 Days Ago</span></td><td class=\"Ta(end)\" data-reactid=\"298\"><span class=\"Trsdu(0.3s)\" data-reactid=\"299\">1.87</span></td><td class=\"Ta(end)\" data-reactid=\"300\"><span class=\"Trsdu(0.3s)\" data-reactid=\"301\">1.29</span></td><td class=\"Ta(end)\" data-reactid=\"302\"><span class=\"Trsdu(0.3s)\" data-reactid=\"303\">5.68</span></td><td class=\"Ta(end)\" data-reactid=\"304\"><span class=\"Trsdu(0.3s)\" data-reactid=\"305\">5.98</span></td></tr><tr class=\"BdT Bdc($seperatorColor)\" data-reactid=\"306\"><td class=\"Py(10px) Ta(start)\" data-reactid=\"307\"><span data-reactid=\"308\">90 Days Ago</span></td><td class=\"Ta(end)\" data-reactid=\"309\"><span class=\"Trsdu(0.3s)\" data-reactid=\"310\">1.87</span></td><td class=\"Ta(end)\" data-reactid=\"311\"><span class=\"Trsdu(0.3s)\" data-reactid=\"312\">1.28</span></td><td class=\"Ta(end)\" data-reactid=\"313\"><span class=\"Trsdu(0.3s)\" data-reactid=\"314\">5.72</span></td><td class=\"Ta(end)\" data-reactid=\"315\"><span class=\"Trsdu(0.3s)\" data-reactid=\"316\">5.95</span></td></tr></tbody></table><table class=\"W(100%) M(0) BdB Bdc($seperatorColor) Mb(25px)\" data-reactid=\"317\"><thead data-reactid=\"318\"><tr class=\"Ta(start)\" data-reactid=\"319\"><th class=\"Fw(b) Fw(s) W(20%) Py(10px) C($primaryColor)\" data-reactid=\"320\"><span data-reactid=\"321\">EPS Revisions</span></th><th class=\"Fw(400) W(20%) Fz(xs) C($tertiaryColor) Ta(end)\" data-reactid=\"322\"><span data-reactid=\"323\"><span data-reactid=\"324\">Current Qtr.</span><!-- react-text: 325 --> (<!-- /react-text --><span data-reactid=\"326\">Dec</span><!-- react-text: 327 --> 2021)<!-- /react-text --></span></th><th class=\"Fw(400) W(20%) Fz(xs) C($tertiaryColor) Ta(end)\" data-reactid=\"328\"><span data-reactid=\"329\"><span data-reactid=\"330\">Next Qtr.</span><!-- react-text: 331 --> (<!-- /react-text --><span data-reactid=\"332\">Mar</span><!-- react-text: 333 --> 2022)<!-- /react-text --></span></th><th class=\"Fw(400) W(20%) Fz(xs) C($tertiaryColor) Ta(end)\" data-reactid=\"334\"><span data-reactid=\"335\"><span data-reactid=\"336\">Current Year</span><!-- react-text: 337 --> (2022)<!-- /react-text --></span></th><th class=\"Fw(400) W(20%) Fz(xs) C($tertiaryColor) Ta(end)\" data-reactid=\"338\"><span data-reactid=\"339\"><span data-reactid=\"340\">Next Year</span><!-- react-text: 341 --> (2023)<!-- /react-text --></span></th></tr></thead><tbody data-reactid=\"342\"><tr class=\"BdT Bdc($seperatorColor)\" data-reactid=\"343\"><td class=\"Py(10px) Ta(start)\" data-reactid=\"344\"><span data-reactid=\"345\">Up Last 7 Days</span></td><td class=\"Ta(end)\" data-reactid=\"346\"><span class=\"Trsdu(0.3s)\" data-reactid=\"347\">2</span></td><td class=\"Ta(end)\" data-reactid=\"348\"><span class=\"Trsdu(0.3s)\" data-reactid=\"349\">1</span></td><td class=\"Ta(end)\" data-reactid=\"350\"><span class=\"Trsdu(0.3s)\" data-reactid=\"351\">2</span></td><td class=\"Ta(end)\" data-reactid=\"352\"><span class=\"Trsdu(0.3s)\" data-reactid=\"353\">2</span></td></tr><tr class=\"BdT Bdc($seperatorColor)\" data-reactid=\"354\"><td class=\"Py(10px) Ta(start)\" data-reactid=\"355\"><span data-reactid=\"356\">Up Last 30 Days</span></td><td class=\"Ta(end)\" data-reactid=\"357\"><span class=\"Trsdu(0.3s)\" data-reactid=\"358\">3</span></td><td class=\"Ta(end)\" data-reactid=\"359\"><span class=\"Trsdu(0.3s)\" data-reactid=\"360\">1</span></td><td class=\"Ta(end)\" data-reactid=\"361\"><span class=\"Trsdu(0.3s)\" data-reactid=\"362\">4</span></td><td class=\"Ta(end)\" data-reactid=\"363\"><span class=\"Trsdu(0.3s)\" data-reactid=\"364\">4</span></td></tr><tr class=\"BdT Bdc($seperatorColor)\" data-reactid=\"365\"><td class=\"Py(10px) Ta(start)\" data-reactid=\"366\"><span data-reactid=\"367\">Down Last 7 Days</span></td><td class=\"Ta(end)\" data-reactid=\"368\"><span data-reactid=\"369\">N/A</span></td><td class=\"Ta(end)\" data-reactid=\"370\"><span data-reactid=\"371\">N/A</span></td><td class=\"Ta(end)\" data-reactid=\"372\"><span data-reactid=\"373\">N/A</span></td><td class=\"Ta(end)\" data-reactid=\"374\"><span data-reactid=\"375\">N/A</span></td></tr><tr class=\"BdT Bdc($seperatorColor)\" data-reactid=\"376\"><td class=\"Py(10px) Ta(start)\" data-reactid=\"377\"><span data-reactid=\"378\">Down Last 30 Days</span></td><td class=\"Ta(end)\" data-reactid=\"379\"><span data-reactid=\"380\">N/A</span></td><td class=\"Ta(end)\" data-reactid=\"381\"><span data-reactid=\"382\">N/A</span></td><td class=\"Ta(end)\" data-reactid=\"383\"><span data-reactid=\"384\">N/A</span></td><td class=\"Ta(end)\" data-reactid=\"385\"><span data-reactid=\"386\">N/A</span></td></tr></tbody></table><table class=\"W(100%) M(0) BdB Bdc($seperatorColor) Mb(25px)\" data-reactid=\"387\"><thead data-reactid=\"388\"><tr class=\"Ta(start)\" data-reactid=\"389\"><th class=\"W(20%) Fz(s) Fw(b) C($primaryColor) Py(10px) Ta(start)\" data-reactid=\"390\">Growth Estimates</th><th class=\"W(20%) Fz(xs) C($tertiaryColor) Py(10px) Fw(400) Ta(end)\" data-reactid=\"391\">AAPL</th><th class=\"W(20%) Fz(xs) C($tertiaryColor) Py(10px) Fw(400) Ta(end)\" data-reactid=\"392\">Industry</th><th class=\"W(20%) Fz(xs) C($tertiaryColor) Py(10px) Fw(400) Ta(end)\" data-reactid=\"393\">Sector(s)</th><th class=\"W(20%) Fz(xs) C($tertiaryColor) Py(10px) Fw(400) Ta(end)\" data-reactid=\"394\">S&amp;P 500</th></tr></thead><tbody data-reactid=\"395\"><tr class=\"BdT Bdc($seperatorColor)\" data-reactid=\"396\"><td class=\"Ta(start) Py(10px)\" data-reactid=\"397\"><span data-reactid=\"398\">Current Qtr.</span></td><td class=\"Ta(end) Py(10px)\" data-reactid=\"399\">11.90%</td><td class=\"Ta(end) Py(10px)\" data-reactid=\"400\">N/A</td><td class=\"Ta(end) Py(10px)\" data-reactid=\"401\">N/A</td><td class=\"Ta(end) Py(10px)\" data-reactid=\"402\">N/A</td></tr><tr class=\"BdT Bdc($seperatorColor)\" data-reactid=\"403\"><td class=\"Ta(start) Py(10px)\" data-reactid=\"404\"><span data-reactid=\"405\">Next Qtr.</span></td><td class=\"Ta(end) Py(10px)\" data-reactid=\"406\">-5.70%</td><td class=\"Ta(end) Py(10px)\" data-reactid=\"407\">N/A</td><td class=\"Ta(end) Py(10px)\" data-reactid=\"408\">N/A</td><td class=\"Ta(end) Py(10px)\" data-reactid=\"409\">N/A</td></tr><tr class=\"BdT Bdc($seperatorColor)\" data-reactid=\"410\"><td class=\"Ta(start) Py(10px)\" data-reactid=\"411\"><span data-reactid=\"412\">Current Year</span></td><td class=\"Ta(end) Py(10px)\" data-reactid=\"413\">2.30%</td><td class=\"Ta(end) Py(10px)\" data-reactid=\"414\">N/A</td><td class=\"Ta(end) Py(10px)\" data-reactid=\"415\">N/A</td><td class=\"Ta(end) Py(10px)\" data-reactid=\"416\">N/A</td></tr><tr class=\"BdT Bdc($seperatorColor)\" data-reactid=\"417\"><td class=\"Ta(start) Py(10px)\" data-reactid=\"418\"><span data-reactid=\"419\">Next Year</span></td><td class=\"Ta(end) Py(10px)\" data-reactid=\"420\">7.70%</td><td class=\"Ta(end) Py(10px)\" data-reactid=\"421\">N/A</td><td class=\"Ta(end) Py(10px)\" data-reactid=\"422\">N/A</td><td class=\"Ta(end) Py(10px)\" data-reactid=\"423\">N/A</td></tr><tr class=\"BdT Bdc($seperatorColor)\" data-reactid=\"424\"><td class=\"Ta(start) Py(10px)\" data-reactid=\"425\"><span data-reactid=\"426\">Next 5 Years (per annum)</span></td><td class=\"Ta(end) Py(10px)\" data-reactid=\"427\">15.68%</td><td class=\"Ta(end) Py(10px)\" data-reactid=\"428\">N/A</td><td class=\"Ta(end) Py(10px)\" data-reactid=\"429\">N/A</td><td class=\"Ta(end) Py(10px)\" data-reactid=\"430\">N/A</td></tr><tr class=\"BdT Bdc($seperatorColor)\" data-reactid=\"431\"><td class=\"Ta(start) Py(10px)\" data-reactid=\"432\"><span data-reactid=\"433\">Past 5 Years (per annum)</span></td><td class=\"Ta(end) Py(10px)\" data-reactid=\"434\">8.42%</td><td class=\"Ta(end) Py(10px)\" data-reactid=\"435\">N/A</td><td class=\"Ta(end) Py(10px)\" data-reactid=\"436\">N/A</td><td class=\"Ta(end) Py(10px)\" data-reactid=\"437\">N/A</td></tr></tbody></table></section>"
      ]
     },
     "execution_count": 60,
     "metadata": {},
     "output_type": "execute_result"
    }
   ],
   "source": [
    "gdp_table_1\n"
   ]
  },
  {
   "cell_type": "code",
   "execution_count": null,
   "id": "e4e2b9ff",
   "metadata": {},
   "outputs": [],
   "source": []
  },
  {
   "cell_type": "code",
   "execution_count": null,
   "id": "9ae6a872",
   "metadata": {},
   "outputs": [],
   "source": []
  },
  {
   "cell_type": "code",
   "execution_count": 17,
   "id": "407b9e98",
   "metadata": {},
   "outputs": [
    {
     "data": {
      "text/plain": [
       "'<table class=\"W(100%) M(0) BdB Bdc($seperatorColor) Mb(25px)\" data-reactid=\"5\">\\n <thead data-reactid=\"6\">\\n  <tr class=\"Ta(start)\" data-reactid=\"7\">\\n   <th class=\"Fw(b) Fw(s) W(20%) Py(10px) C($primaryColor)\" data-reactid=\"8\">\\n    <span data-reactid=\"9\">\\n     Earnings Estimate\\n    </span>\\n   </th>\\n   <th class=\"Fw(400) W(20%) Fz(xs) C($tertiaryColor) Ta(end)\" data-reactid=\"10\">\\n    <span data-reactid=\"11\">\\n     <span data-reactid=\"12\">\\n      Current Qtr.\\n     </span>\\n     <!-- react-text: 13 -->\\n     (\\n     <!-- /react-text -->\\n     <span data-reactid=\"14\">\\n      Dec\\n     </span>\\n     <!-- react-text: 15 -->\\n     2021)\\n     <!-- /react-text -->\\n    </span>\\n   </th>\\n   <th class=\"Fw(400) W(20%) Fz(xs) C($tertiaryColor) Ta(end)\" data-reactid=\"16\">\\n    <span data-reactid=\"17\">\\n     <span data-reactid=\"18\">\\n      Next Qtr.\\n     </span>\\n     <!-- react-text: 19 -->\\n     (\\n     <!-- /react-text -->\\n     <span data-reactid=\"20\">\\n      Mar\\n     </span>\\n     <!-- react-text: 21 -->\\n     2022)\\n     <!-- /react-text -->\\n    </span>\\n   </th>\\n   <th class=\"Fw(400) W(20%) Fz(xs) C($tertiaryColor) Ta(end)\" data-reactid=\"22\">\\n    <span data-reactid=\"23\">\\n     <span data-reactid=\"24\">\\n      Current Year\\n     </span>\\n     <!-- react-text: 25 -->\\n     (2022)\\n     <!-- /react-text -->\\n    </span>\\n   </th>\\n   <th class=\"Fw(400) W(20%) Fz(xs) C($tertiaryColor) Ta(end)\" data-reactid=\"26\">\\n    <span data-reactid=\"27\">\\n     <span data-reactid=\"28\">\\n      Next Year\\n     </span>\\n     <!-- react-text: 29 -->\\n     (2023)\\n     <!-- /react-text -->\\n    </span>\\n   </th>\\n  </tr>\\n </thead>\\n <tbody data-reactid=\"30\">\\n  <tr class=\"BdT Bdc($seperatorColor)\" data-reactid=\"31\">\\n   <td class=\"Py(10px) Ta(start)\" data-reactid=\"32\">\\n    <span data-reactid=\"33\">\\n     No. of Analysts\\n    </span>\\n   </td>\\n   <td class=\"Ta(end)\" data-reactid=\"34\">\\n    <span class=\"Trsdu(0.3s)\" data-reactid=\"35\">\\n     25\\n    </span>\\n   </td>\\n   <td class=\"Ta(end)\" data-reactid=\"36\">\\n    <span class=\"Trsdu(0.3s)\" data-reactid=\"37\">\\n     24\\n    </span>\\n   </td>\\n   <td class=\"Ta(end)\" data-reactid=\"38\">\\n    <span class=\"Trsdu(0.3s)\" data-reactid=\"39\">\\n     37\\n    </span>\\n   </td>\\n   <td class=\"Ta(end)\" data-reactid=\"40\">\\n    <span class=\"Trsdu(0.3s)\" data-reactid=\"41\">\\n     33\\n    </span>\\n   </td>\\n  </tr>\\n  <tr class=\"BdT Bdc($seperatorColor)\" data-reactid=\"42\">\\n   <td class=\"Py(10px) Ta(start)\" data-reactid=\"43\">\\n    <span data-reactid=\"44\">\\n     Avg. Estimate\\n    </span>\\n   </td>\\n   <td class=\"Ta(end)\" data-reactid=\"45\">\\n    <span class=\"Trsdu(0.3s)\" data-reactid=\"46\">\\n     1.88\\n    </span>\\n   </td>\\n   <td class=\"Ta(end)\" data-reactid=\"47\">\\n    <span class=\"Trsdu(0.3s)\" data-reactid=\"48\">\\n     1.32\\n    </span>\\n   </td>\\n   <td class=\"Ta(end)\" data-reactid=\"49\">\\n    <span class=\"Trsdu(0.3s)\" data-reactid=\"50\">\\n     5.74\\n    </span>\\n   </td>\\n   <td class=\"Ta(end)\" data-reactid=\"51\">\\n    <span class=\"Trsdu(0.3s)\" data-reactid=\"52\">\\n     6.18\\n    </span>\\n   </td>\\n  </tr>\\n  <tr class=\"BdT Bdc($seperatorColor)\" data-reactid=\"53\">\\n   <td class=\"Py(10px) Ta(start)\" data-reactid=\"54\">\\n    <span data-reactid=\"55\">\\n     Low Estimate\\n    </span>\\n   </td>\\n   <td class=\"Ta(end)\" data-reactid=\"56\">\\n    <span class=\"Trsdu(0.3s)\" data-reactid=\"57\">\\n     1.75\\n    </span>\\n   </td>\\n   <td class=\"Ta(end)\" data-reactid=\"58\">\\n    <span class=\"Trsdu(0.3s)\" data-reactid=\"59\">\\n     1.16\\n    </span>\\n   </td>\\n   <td class=\"Ta(end)\" data-reactid=\"60\">\\n    <span class=\"Trsdu(0.3s)\" data-reactid=\"61\">\\n     5.2\\n    </span>\\n   </td>\\n   <td class=\"Ta(end)\" data-reactid=\"62\">\\n    <span class=\"Trsdu(0.3s)\" data-reactid=\"63\">\\n     5.26\\n    </span>\\n   </td>\\n  </tr>\\n  <tr class=\"BdT Bdc($seperatorColor)\" data-reactid=\"64\">\\n   <td class=\"Py(10px) Ta(start)\" data-reactid=\"65\">\\n    <span data-reactid=\"66\">\\n     High Estimate\\n    </span>\\n   </td>\\n   <td class=\"Ta(end)\" data-reactid=\"67\">\\n    <span class=\"Trsdu(0.3s)\" data-reactid=\"68\">\\n     1.97\\n    </span>\\n   </td>\\n   <td class=\"Ta(end)\" data-reactid=\"69\">\\n    <span class=\"Trsdu(0.3s)\" data-reactid=\"70\">\\n     1.52\\n    </span>\\n   </td>\\n   <td class=\"Ta(end)\" data-reactid=\"71\">\\n    <span class=\"Trsdu(0.3s)\" data-reactid=\"72\">\\n     6.27\\n    </span>\\n   </td>\\n   <td class=\"Ta(end)\" data-reactid=\"73\">\\n    <span class=\"Trsdu(0.3s)\" data-reactid=\"74\">\\n     6.82\\n    </span>\\n   </td>\\n  </tr>\\n  <tr class=\"BdT Bdc($seperatorColor)\" data-reactid=\"75\">\\n   <td class=\"Py(10px) Ta(start)\" data-reactid=\"76\">\\n    <span data-reactid=\"77\">\\n     Year Ago EPS\\n    </span>\\n   </td>\\n   <td class=\"Ta(end)\" data-reactid=\"78\">\\n    <span class=\"Trsdu(0.3s)\" data-reactid=\"79\">\\n     1.68\\n    </span>\\n   </td>\\n   <td class=\"Ta(end)\" data-reactid=\"80\">\\n    <span class=\"Trsdu(0.3s)\" data-reactid=\"81\">\\n     1.4\\n    </span>\\n   </td>\\n   <td class=\"Ta(end)\" data-reactid=\"82\">\\n    <span class=\"Trsdu(0.3s)\" data-reactid=\"83\">\\n     5.61\\n    </span>\\n   </td>\\n   <td class=\"Ta(end)\" data-reactid=\"84\">\\n    <span class=\"Trsdu(0.3s)\" data-reactid=\"85\">\\n     5.74\\n    </span>\\n   </td>\\n  </tr>\\n </tbody>\\n</table>\\n'"
      ]
     },
     "execution_count": 17,
     "metadata": {},
     "output_type": "execute_result"
    }
   ],
   "source": [
    "gdp_table.prettify()"
   ]
  },
  {
   "cell_type": "code",
   "execution_count": null,
   "id": "2acac9a0",
   "metadata": {},
   "outputs": [],
   "source": []
  },
  {
   "cell_type": "code",
   "execution_count": null,
   "id": "69bba902",
   "metadata": {},
   "outputs": [],
   "source": []
  },
  {
   "cell_type": "code",
   "execution_count": null,
   "id": "47cc1703",
   "metadata": {},
   "outputs": [],
   "source": []
  },
  {
   "cell_type": "code",
   "execution_count": null,
   "id": "8aac90c0",
   "metadata": {},
   "outputs": [],
   "source": []
  },
  {
   "cell_type": "code",
   "execution_count": null,
   "id": "64a1c210",
   "metadata": {},
   "outputs": [],
   "source": []
  },
  {
   "cell_type": "code",
   "execution_count": null,
   "id": "50de0316",
   "metadata": {},
   "outputs": [],
   "source": []
  },
  {
   "cell_type": "code",
   "execution_count": null,
   "id": "c05aab41",
   "metadata": {},
   "outputs": [],
   "source": []
  },
  {
   "cell_type": "code",
   "execution_count": 85,
   "id": "24108d5f",
   "metadata": {},
   "outputs": [
    {
     "name": "stdout",
     "output_type": "stream",
     "text": [
      "MA\n"
     ]
    },
    {
     "data": {
      "text/html": [
       "<div>\n",
       "<style scoped>\n",
       "    .dataframe tbody tr th:only-of-type {\n",
       "        vertical-align: middle;\n",
       "    }\n",
       "\n",
       "    .dataframe tbody tr th {\n",
       "        vertical-align: top;\n",
       "    }\n",
       "\n",
       "    .dataframe thead tr th {\n",
       "        text-align: left;\n",
       "    }\n",
       "</style>\n",
       "<table border=\"1\" class=\"dataframe\">\n",
       "  <thead>\n",
       "    <tr>\n",
       "      <th></th>\n",
       "      <th>Earnings Estimate</th>\n",
       "      <th>Current Qtr. (Dec 2021)</th>\n",
       "      <th>Next Qtr. (Mar 2022)</th>\n",
       "      <th>Current Year (2021)</th>\n",
       "      <th>Next Year (2022)</th>\n",
       "    </tr>\n",
       "  </thead>\n",
       "  <tbody>\n",
       "    <tr>\n",
       "      <th>0</th>\n",
       "      <td>No. of Analysts</td>\n",
       "      <td>29</td>\n",
       "      <td>23</td>\n",
       "      <td>31</td>\n",
       "      <td>34</td>\n",
       "    </tr>\n",
       "    <tr>\n",
       "      <th>1</th>\n",
       "      <td>Avg. Estimate</td>\n",
       "      <td>2.21</td>\n",
       "      <td>2.28</td>\n",
       "      <td>8.26</td>\n",
       "      <td>10.53</td>\n",
       "    </tr>\n",
       "    <tr>\n",
       "      <th>2</th>\n",
       "      <td>Low Estimate</td>\n",
       "      <td>2.13</td>\n",
       "      <td>2.08</td>\n",
       "      <td>8.18</td>\n",
       "      <td>9.83</td>\n",
       "    </tr>\n",
       "    <tr>\n",
       "      <th>3</th>\n",
       "      <td>High Estimate</td>\n",
       "      <td>2.32</td>\n",
       "      <td>2.47</td>\n",
       "      <td>8.39</td>\n",
       "      <td>10.95</td>\n",
       "    </tr>\n",
       "    <tr>\n",
       "      <th>4</th>\n",
       "      <td>Year Ago EPS</td>\n",
       "      <td>1.64</td>\n",
       "      <td>1.74</td>\n",
       "      <td>6.43</td>\n",
       "      <td>8.26</td>\n",
       "    </tr>\n",
       "  </tbody>\n",
       "</table>\n",
       "</div>"
      ],
      "text/plain": [
       "  Earnings Estimate Current Qtr. (Dec 2021) Next Qtr. (Mar 2022)  \\\n",
       "0   No. of Analysts                      29                   23   \n",
       "1     Avg. Estimate                    2.21                 2.28   \n",
       "2      Low Estimate                    2.13                 2.08   \n",
       "3     High Estimate                    2.32                 2.47   \n",
       "4      Year Ago EPS                    1.64                 1.74   \n",
       "\n",
       "  Current Year (2021) Next Year (2022)  \n",
       "0                  31               34  \n",
       "1                8.26            10.53  \n",
       "2                8.18             9.83  \n",
       "3                8.39            10.95  \n",
       "4                6.43             8.26  "
      ]
     },
     "execution_count": 85,
     "metadata": {},
     "output_type": "execute_result"
    }
   ],
   "source": [
    "#Final\n",
    "\n",
    "import pandas as pd\n",
    "import requests\n",
    "from bs4 import BeautifulSoup\n",
    "\n",
    "\n",
    "stockname = 'MA'\n",
    "#If 404 error meaning some website need to know more information in requests to give you access to this page \n",
    "#     => need to define user-agent from this (http://httpbin.org/get)\n",
    "headers = {'User-Agent': 'Mozilla/5.0'}\n",
    "\n",
    "url = f\"https://finance.yahoo.com/quote/{stockname}/analysis?p={stockname}\"\n",
    "\n",
    "r = requests.get(url, headers=headers)\n",
    "# print(r.text)\n",
    "\n",
    "soup = BeautifulSoup(r.text, 'html.parser')\n",
    "# print(soup.prettify())\n",
    "gdp_table = soup.find(\"table\", attrs={\"class\": \"W(100%) M(0) BdB Bdc($seperatorColor) Mb(25px)\"})\n",
    "\n",
    "gdp_table_data = gdp_table.thead.find_all(\"th\")\n",
    "tablebody = gdp_table.find_all(\"tbody\")\n",
    "\n",
    "headingitem = []\n",
    "table_data = []\n",
    "for i in gdp_table_data:\n",
    "#     print(i.text)\n",
    "    headingitem.append(i.text)\n",
    "    \n",
    "for body in tablebody:\n",
    "    for row in body:\n",
    "        row_list = []\n",
    "        for item in row:\n",
    "#             print(item.text)\n",
    "            row_list.append(item.text)        \n",
    "#         print('================')\n",
    "        table_data.append(row_list)\n",
    "df = pd.DataFrame(table_data, columns = [headingitem])\n",
    "\n",
    "print(stockname)\n",
    "df"
   ]
  },
  {
   "cell_type": "code",
   "execution_count": 1,
   "id": "e3cf2bb1",
   "metadata": {},
   "outputs": [
    {
     "name": "stdout",
     "output_type": "stream",
     "text": [
      "AAPL\n"
     ]
    },
    {
     "data": {
      "text/html": [
       "<div>\n",
       "<style scoped>\n",
       "    .dataframe tbody tr th:only-of-type {\n",
       "        vertical-align: middle;\n",
       "    }\n",
       "\n",
       "    .dataframe tbody tr th {\n",
       "        vertical-align: top;\n",
       "    }\n",
       "\n",
       "    .dataframe thead tr th {\n",
       "        text-align: left;\n",
       "    }\n",
       "</style>\n",
       "<table border=\"1\" class=\"dataframe\">\n",
       "  <thead>\n",
       "    <tr>\n",
       "      <th></th>\n",
       "      <th>Earnings Estimate</th>\n",
       "      <th>Current Qtr. (Dec 2021)</th>\n",
       "      <th>Next Qtr. (Mar 2022)</th>\n",
       "      <th>Current Year (2022)</th>\n",
       "      <th>Next Year (2023)</th>\n",
       "    </tr>\n",
       "  </thead>\n",
       "  <tbody>\n",
       "    <tr>\n",
       "      <th>0</th>\n",
       "      <td>No. of Analysts</td>\n",
       "      <td>25</td>\n",
       "      <td>24</td>\n",
       "      <td>37</td>\n",
       "      <td>33</td>\n",
       "    </tr>\n",
       "    <tr>\n",
       "      <th>1</th>\n",
       "      <td>Avg. Estimate</td>\n",
       "      <td>1.88</td>\n",
       "      <td>1.32</td>\n",
       "      <td>5.74</td>\n",
       "      <td>6.18</td>\n",
       "    </tr>\n",
       "    <tr>\n",
       "      <th>2</th>\n",
       "      <td>Low Estimate</td>\n",
       "      <td>1.75</td>\n",
       "      <td>1.16</td>\n",
       "      <td>5.2</td>\n",
       "      <td>5.26</td>\n",
       "    </tr>\n",
       "    <tr>\n",
       "      <th>3</th>\n",
       "      <td>High Estimate</td>\n",
       "      <td>1.97</td>\n",
       "      <td>1.52</td>\n",
       "      <td>6.27</td>\n",
       "      <td>6.82</td>\n",
       "    </tr>\n",
       "    <tr>\n",
       "      <th>4</th>\n",
       "      <td>Year Ago EPS</td>\n",
       "      <td>1.68</td>\n",
       "      <td>1.4</td>\n",
       "      <td>5.61</td>\n",
       "      <td>5.74</td>\n",
       "    </tr>\n",
       "  </tbody>\n",
       "</table>\n",
       "</div>"
      ],
      "text/plain": [
       "  Earnings Estimate Current Qtr. (Dec 2021) Next Qtr. (Mar 2022)  \\\n",
       "0   No. of Analysts                      25                   24   \n",
       "1     Avg. Estimate                    1.88                 1.32   \n",
       "2      Low Estimate                    1.75                 1.16   \n",
       "3     High Estimate                    1.97                 1.52   \n",
       "4      Year Ago EPS                    1.68                  1.4   \n",
       "\n",
       "  Current Year (2022) Next Year (2023)  \n",
       "0                  37               33  \n",
       "1                5.74             6.18  \n",
       "2                 5.2             5.26  \n",
       "3                6.27             6.82  \n",
       "4                5.61             5.74  "
      ]
     },
     "execution_count": 1,
     "metadata": {},
     "output_type": "execute_result"
    }
   ],
   "source": [
    "#Final\n",
    "\n",
    "import pandas as pd\n",
    "import requests\n",
    "from bs4 import BeautifulSoup\n",
    "\n",
    "\n",
    "stockname = 'AAPL'\n",
    "\n",
    "\n",
    "#If 404 error meaning some website need to know more information in requests to give you access to this page \n",
    "#     => need to define user-agent from this (http://httpbin.org/get)\n",
    "headers = {'User-Agent': 'Mozilla/5.0'}\n",
    "\n",
    "url = f\"https://finance.yahoo.com/quote/{stockname}/analysis?p={stockname}\"\n",
    "\n",
    "r = requests.get(url, headers=headers)\n",
    "# print(r.text)\n",
    "\n",
    "soup = BeautifulSoup(r.text, 'html.parser')\n",
    "# print(soup.prettify())\n",
    "Estimate_Table = soup.find_all(\"table\", attrs={\"class\": \"W(100%) M(0) BdB Bdc($seperatorColor) Mb(25px)\"})\n",
    "\n",
    "# Estimate_Table[0] = Earning Estimate\n",
    "# Estimate_Table[1] = Revenue Estimate\n",
    "table_thead = Estimate_Table[0].thead.find_all(\"th\")\n",
    "table_body = Estimate_Table[0].find(\"tbody\")\n",
    "\n",
    "headingitem = []\n",
    "table_data = []\n",
    "for i in table_thead:\n",
    "#     print(i.text)\n",
    "    headingitem.append(i.text)\n",
    "for body in table_body:\n",
    "    row_list = []\n",
    "    for row in body:\n",
    "        for item in row:\n",
    "            row_list.append(item.text)        \n",
    "    table_data.append(row_list)\n",
    "df = pd.DataFrame(table_data, columns = [headingitem])\n",
    "\n",
    "print(stockname)\n",
    "df"
   ]
  },
  {
   "cell_type": "code",
   "execution_count": 2,
   "id": "c3624c9d",
   "metadata": {},
   "outputs": [],
   "source": [
    "# Final \n",
    "def extractdata(stock,EarningorRevenue):\n",
    "\n",
    "    # EarningorRevenue = [0] => Earning Estimate\n",
    "    # EarningorRevenue = [1] => Revenue Estimate\n",
    "    headers = {'User-Agent': 'Mozilla/5.0'}\n",
    "\n",
    "    url = f\"https://finance.yahoo.com/quote/{stock}/analysis?p={stock}\"\n",
    "\n",
    "    r = requests.get(url, headers=headers)\n",
    "    # print(r.text)\n",
    "\n",
    "    soup = BeautifulSoup(r.text, 'html.parser')\n",
    "    # print(soup.prettify())\n",
    "    Estimate_Table = soup.find_all(\"table\", attrs={\"class\": \"W(100%) M(0) BdB Bdc($seperatorColor) Mb(25px)\"})\n",
    "    table_thead = Estimate_Table[EarningorRevenue].thead.find_all(\"th\")\n",
    "    table_body = Estimate_Table[EarningorRevenue].find(\"tbody\")\n",
    "\n",
    "    headingitem = []\n",
    "    table_data = []\n",
    "    for i in table_thead:\n",
    "    #     print(i.text)\n",
    "        headingitem.append(i.text)\n",
    "    for body in table_body:\n",
    "        row_list = []\n",
    "        for row in body:\n",
    "            for item in row:\n",
    "                row_list.append(item.text)        \n",
    "        table_data.append(row_list)\n",
    "    df = pd.DataFrame(table_data, columns = [headingitem])\n",
    "    return df"
   ]
  },
  {
   "cell_type": "code",
   "execution_count": 3,
   "id": "a855ad08",
   "metadata": {},
   "outputs": [
    {
     "data": {
      "text/html": [
       "<div>\n",
       "<style scoped>\n",
       "    .dataframe tbody tr th:only-of-type {\n",
       "        vertical-align: middle;\n",
       "    }\n",
       "\n",
       "    .dataframe tbody tr th {\n",
       "        vertical-align: top;\n",
       "    }\n",
       "\n",
       "    .dataframe thead tr th {\n",
       "        text-align: left;\n",
       "    }\n",
       "</style>\n",
       "<table border=\"1\" class=\"dataframe\">\n",
       "  <thead>\n",
       "    <tr>\n",
       "      <th></th>\n",
       "      <th>Revenue Estimate</th>\n",
       "      <th>Current Qtr. (Dec 2021)</th>\n",
       "      <th>Next Qtr. (Mar 2022)</th>\n",
       "      <th>Current Year (2022)</th>\n",
       "      <th>Next Year (2023)</th>\n",
       "    </tr>\n",
       "  </thead>\n",
       "  <tbody>\n",
       "    <tr>\n",
       "      <th>0</th>\n",
       "      <td>No. of Analysts</td>\n",
       "      <td>22</td>\n",
       "      <td>22</td>\n",
       "      <td>36</td>\n",
       "      <td>31</td>\n",
       "    </tr>\n",
       "    <tr>\n",
       "      <th>1</th>\n",
       "      <td>Avg. Estimate</td>\n",
       "      <td>118.18B</td>\n",
       "      <td>90.42B</td>\n",
       "      <td>381.81B</td>\n",
       "      <td>401.29B</td>\n",
       "    </tr>\n",
       "    <tr>\n",
       "      <th>2</th>\n",
       "      <td>Low Estimate</td>\n",
       "      <td>111.81B</td>\n",
       "      <td>83.26B</td>\n",
       "      <td>359.16B</td>\n",
       "      <td>300.5B</td>\n",
       "    </tr>\n",
       "    <tr>\n",
       "      <th>3</th>\n",
       "      <td>High Estimate</td>\n",
       "      <td>121.3B</td>\n",
       "      <td>98.28B</td>\n",
       "      <td>405.44B</td>\n",
       "      <td>445.58B</td>\n",
       "    </tr>\n",
       "    <tr>\n",
       "      <th>4</th>\n",
       "      <td>Year Ago Sales</td>\n",
       "      <td>N/A</td>\n",
       "      <td>N/A</td>\n",
       "      <td>365.82B</td>\n",
       "      <td>381.81B</td>\n",
       "    </tr>\n",
       "    <tr>\n",
       "      <th>5</th>\n",
       "      <td>Sales Growth (year/est)</td>\n",
       "      <td>N/A</td>\n",
       "      <td>N/A</td>\n",
       "      <td>4.40%</td>\n",
       "      <td>5.10%</td>\n",
       "    </tr>\n",
       "  </tbody>\n",
       "</table>\n",
       "</div>"
      ],
      "text/plain": [
       "          Revenue Estimate Current Qtr. (Dec 2021) Next Qtr. (Mar 2022)  \\\n",
       "0          No. of Analysts                      22                   22   \n",
       "1            Avg. Estimate                 118.18B               90.42B   \n",
       "2             Low Estimate                 111.81B               83.26B   \n",
       "3            High Estimate                  121.3B               98.28B   \n",
       "4           Year Ago Sales                     N/A                  N/A   \n",
       "5  Sales Growth (year/est)                     N/A                  N/A   \n",
       "\n",
       "  Current Year (2022) Next Year (2023)  \n",
       "0                  36               31  \n",
       "1             381.81B          401.29B  \n",
       "2             359.16B           300.5B  \n",
       "3             405.44B          445.58B  \n",
       "4             365.82B          381.81B  \n",
       "5               4.40%            5.10%  "
      ]
     },
     "execution_count": 3,
     "metadata": {},
     "output_type": "execute_result"
    }
   ],
   "source": [
    "extractdata('AAPL',1)"
   ]
  },
  {
   "cell_type": "code",
   "execution_count": null,
   "id": "046ab579",
   "metadata": {},
   "outputs": [],
   "source": []
  },
  {
   "cell_type": "code",
   "execution_count": null,
   "id": "59e43238",
   "metadata": {},
   "outputs": [],
   "source": []
  },
  {
   "cell_type": "code",
   "execution_count": null,
   "id": "31a0d300",
   "metadata": {},
   "outputs": [],
   "source": []
  },
  {
   "cell_type": "code",
   "execution_count": 72,
   "id": "e3761e15",
   "metadata": {},
   "outputs": [],
   "source": [
    "stock = ['AAPL','MSFT']\n",
    "\n",
    "#FINAL\n",
    "\n",
    "import requests\n",
    "from bs4 import BeautifulSoup\n",
    "\n",
    "\n",
    "def obtainbetabond(stock):\n",
    "#     stock = 'AAPL'\n",
    "#     allitems = []\n",
    "    \n",
    "    headers = {'User-Agent': 'Mozilla/5.0'}\n",
    "\n",
    "    url_beta = f'https://finance.yahoo.com/quote/{stock}/key-statistics?p={stock}'\n",
    "\n",
    "    \n",
    "    r_beta = requests.get(url_beta, headers=headers)\n",
    "\n",
    "    soup_beta = BeautifulSoup(r_beta.text, 'html.parser')\n",
    "    beta = soup_beta.find(\"td\", attrs={\"data-reactid\": \"97\"}).text\n",
    "#     beta = []\n",
    "#     for i in soup_beta.find(\"tr\", attrs={\"class\": \"Bxz(bb) H(36px) BdY Bdc($seperatorColor)\"}):\n",
    "# #         specificbeta = i\n",
    "#         beta.append(i.text)\n",
    "#     print(i.text)\n",
    "# ======================================================\n",
    "    url_bond = f'https://finance.yahoo.com/bonds'\n",
    "    r_bond = requests.get(url_bond, headers=headers)\n",
    "    soup_bond = BeautifulSoup(r_bond.text, 'html.parser')\n",
    "\n",
    "    qqq_bond = soup_bond.find(\"table\", attrs={\"class\": \"W(100%)\"})\n",
    "\n",
    "    treasurybond = []\n",
    "    for j in qqq_bond.tbody.find_all(\"tr\")[2]:\n",
    "        treasurybond.append(j.text)\n",
    "    bondvalue = treasurybond[2]\n",
    "    return stock,bondvalue, beta\n",
    "\n",
    "# listofbeta = []\n",
    "# for i in stock:\n",
    "#     listofbeta.append(obtainbeta(i))\n",
    "# listofbeta"
   ]
  },
  {
   "cell_type": "code",
   "execution_count": 77,
   "id": "fe3b71ed",
   "metadata": {},
   "outputs": [
    {
     "data": {
      "text/plain": [
       "[['AAPL', '1.7800', '1.20'], ['amzn', '1.7800', '1.10']]"
      ]
     },
     "execution_count": 77,
     "metadata": {},
     "output_type": "execute_result"
    }
   ],
   "source": [
    "stock = ['AAPL','amzn']\n",
    "listofStockBondBeta = []\n",
    "for i in stock:\n",
    "#     a,b,c = obtainbetabond('AAPL')\n",
    "    listofStockBondBeta.append(list(obtainbetabond(i)))\n",
    "listofStockBondBeta"
   ]
  },
  {
   "cell_type": "code",
   "execution_count": null,
   "id": "3619670a",
   "metadata": {},
   "outputs": [],
   "source": []
  },
  {
   "cell_type": "code",
   "execution_count": null,
   "id": "34a0b403",
   "metadata": {},
   "outputs": [],
   "source": []
  },
  {
   "cell_type": "code",
   "execution_count": 6,
   "id": "6584dbb2",
   "metadata": {},
   "outputs": [
    {
     "data": {
      "text/plain": [
       "'1.7800'"
      ]
     },
     "execution_count": 6,
     "metadata": {},
     "output_type": "execute_result"
    }
   ],
   "source": [
    "url_bond = f'https://finance.yahoo.com/bonds'\n",
    "headers = {'User-Agent': 'Mozilla/5.0'}\n",
    "r_bond = requests.get(url_bond, headers=headers)\n",
    "soup_bond = BeautifulSoup(r_bond.text, 'html.parser')\n",
    "\n",
    "qqq_bond = soup_bond.find(\"table\", attrs={\"class\": \"W(100%)\"})\n",
    "\n",
    "treasurybond = []\n",
    "for j in qqq_bond.tbody.find_all(\"tr\")[2]:\n",
    "    treasurybond.append(j.text)\n",
    "bondvalue = treasurybond[2]\n",
    "bondvalue"
   ]
  },
  {
   "cell_type": "code",
   "execution_count": null,
   "id": "77bd5d82",
   "metadata": {},
   "outputs": [],
   "source": []
  },
  {
   "cell_type": "code",
   "execution_count": 100,
   "id": "38dabd59",
   "metadata": {},
   "outputs": [
    {
     "data": {
      "text/plain": [
       "'<table class=\"W(100%) M(0) BdB Bdc($seperatorColor) Mb(25px)\" data-reactid=\"86\">\\n <thead data-reactid=\"87\">\\n  <tr class=\"Ta(start)\" data-reactid=\"88\">\\n   <th class=\"Fw(b) Fw(s) W(20%) Py(10px) C($primaryColor)\" data-reactid=\"89\">\\n    <span data-reactid=\"90\">\\n     Revenue Estimate\\n    </span>\\n   </th>\\n   <th class=\"Fw(400) W(20%) Fz(xs) C($tertiaryColor) Ta(end)\" data-reactid=\"91\">\\n    <span data-reactid=\"92\">\\n     <span data-reactid=\"93\">\\n      Current Qtr.\\n     </span>\\n     <!-- react-text: 94 -->\\n     (\\n     <!-- /react-text -->\\n     <span data-reactid=\"95\">\\n      Dec\\n     </span>\\n     <!-- react-text: 96 -->\\n     2021)\\n     <!-- /react-text -->\\n    </span>\\n   </th>\\n   <th class=\"Fw(400) W(20%) Fz(xs) C($tertiaryColor) Ta(end)\" data-reactid=\"97\">\\n    <span data-reactid=\"98\">\\n     <span data-reactid=\"99\">\\n      Next Qtr.\\n     </span>\\n     <!-- react-text: 100 -->\\n     (\\n     <!-- /react-text -->\\n     <span data-reactid=\"101\">\\n      Mar\\n     </span>\\n     <!-- react-text: 102 -->\\n     2022)\\n     <!-- /react-text -->\\n    </span>\\n   </th>\\n   <th class=\"Fw(400) W(20%) Fz(xs) C($tertiaryColor) Ta(end)\" data-reactid=\"103\">\\n    <span data-reactid=\"104\">\\n     <span data-reactid=\"105\">\\n      Current Year\\n     </span>\\n     <!-- react-text: 106 -->\\n     (2021)\\n     <!-- /react-text -->\\n    </span>\\n   </th>\\n   <th class=\"Fw(400) W(20%) Fz(xs) C($tertiaryColor) Ta(end)\" data-reactid=\"107\">\\n    <span data-reactid=\"108\">\\n     <span data-reactid=\"109\">\\n      Next Year\\n     </span>\\n     <!-- react-text: 110 -->\\n     (2022)\\n     <!-- /react-text -->\\n    </span>\\n   </th>\\n  </tr>\\n </thead>\\n <tbody data-reactid=\"111\">\\n  <tr class=\"BdT Bdc($seperatorColor)\" data-reactid=\"112\">\\n   <td class=\"Py(10px) Ta(start)\" data-reactid=\"113\">\\n    <span data-reactid=\"114\">\\n     No. of Analysts\\n    </span>\\n   </td>\\n   <td class=\"Ta(end)\" data-reactid=\"115\">\\n    <span class=\"Trsdu(0.3s)\" data-reactid=\"116\">\\n     26\\n    </span>\\n   </td>\\n   <td class=\"Ta(end)\" data-reactid=\"117\">\\n    <span class=\"Trsdu(0.3s)\" data-reactid=\"118\">\\n     18\\n    </span>\\n   </td>\\n   <td class=\"Ta(end)\" data-reactid=\"119\">\\n    <span class=\"Trsdu(0.3s)\" data-reactid=\"120\">\\n     32\\n    </span>\\n   </td>\\n   <td class=\"Ta(end)\" data-reactid=\"121\">\\n    <span class=\"Trsdu(0.3s)\" data-reactid=\"122\">\\n     32\\n    </span>\\n   </td>\\n  </tr>\\n  <tr class=\"BdT Bdc($seperatorColor)\" data-reactid=\"123\">\\n   <td class=\"Py(10px) Ta(start)\" data-reactid=\"124\">\\n    <span data-reactid=\"125\">\\n     Avg. Estimate\\n    </span>\\n   </td>\\n   <td class=\"Ta(end)\" data-reactid=\"126\">\\n    <span class=\"Trsdu(0.3s)\" data-reactid=\"127\">\\n     5.17B\\n    </span>\\n   </td>\\n   <td class=\"Ta(end)\" data-reactid=\"128\">\\n    <span class=\"Trsdu(0.3s)\" data-reactid=\"129\">\\n     5.08B\\n    </span>\\n   </td>\\n   <td class=\"Ta(end)\" data-reactid=\"130\">\\n    <span class=\"Trsdu(0.3s)\" data-reactid=\"131\">\\n     18.83B\\n    </span>\\n   </td>\\n   <td class=\"Ta(end)\" data-reactid=\"132\">\\n    <span class=\"Trsdu(0.3s)\" data-reactid=\"133\">\\n     22.54B\\n    </span>\\n   </td>\\n  </tr>\\n  <tr class=\"BdT Bdc($seperatorColor)\" data-reactid=\"134\">\\n   <td class=\"Py(10px) Ta(start)\" data-reactid=\"135\">\\n    <span data-reactid=\"136\">\\n     Low Estimate\\n    </span>\\n   </td>\\n   <td class=\"Ta(end)\" data-reactid=\"137\">\\n    <span class=\"Trsdu(0.3s)\" data-reactid=\"138\">\\n     4.98B\\n    </span>\\n   </td>\\n   <td class=\"Ta(end)\" data-reactid=\"139\">\\n    <span class=\"Trsdu(0.3s)\" data-reactid=\"140\">\\n     4.74B\\n    </span>\\n   </td>\\n   <td class=\"Ta(end)\" data-reactid=\"141\">\\n    <span class=\"Trsdu(0.3s)\" data-reactid=\"142\">\\n     18.64B\\n    </span>\\n   </td>\\n   <td class=\"Ta(end)\" data-reactid=\"143\">\\n    <span class=\"Trsdu(0.3s)\" data-reactid=\"144\">\\n     21.67B\\n    </span>\\n   </td>\\n  </tr>\\n  <tr class=\"BdT Bdc($seperatorColor)\" data-reactid=\"145\">\\n   <td class=\"Py(10px) Ta(start)\" data-reactid=\"146\">\\n    <span data-reactid=\"147\">\\n     High Estimate\\n    </span>\\n   </td>\\n   <td class=\"Ta(end)\" data-reactid=\"148\">\\n    <span class=\"Trsdu(0.3s)\" data-reactid=\"149\">\\n     5.28B\\n    </span>\\n   </td>\\n   <td class=\"Ta(end)\" data-reactid=\"150\">\\n    <span class=\"Trsdu(0.3s)\" data-reactid=\"151\">\\n     5.33B\\n    </span>\\n   </td>\\n   <td class=\"Ta(end)\" data-reactid=\"152\">\\n    <span class=\"Trsdu(0.3s)\" data-reactid=\"153\">\\n     18.95B\\n    </span>\\n   </td>\\n   <td class=\"Ta(end)\" data-reactid=\"154\">\\n    <span class=\"Trsdu(0.3s)\" data-reactid=\"155\">\\n     23.4B\\n    </span>\\n   </td>\\n  </tr>\\n  <tr class=\"BdT Bdc($seperatorColor)\" data-reactid=\"156\">\\n   <td class=\"Py(10px) Ta(start)\" data-reactid=\"157\">\\n    <span data-reactid=\"158\">\\n     Year Ago Sales\\n    </span>\\n   </td>\\n   <td class=\"Ta(end)\" data-reactid=\"159\">\\n    <span class=\"Trsdu(0.3s)\" data-reactid=\"160\">\\n     4.12B\\n    </span>\\n   </td>\\n   <td class=\"Ta(end)\" data-reactid=\"161\">\\n    <span class=\"Trsdu(0.3s)\" data-reactid=\"162\">\\n     4.16B\\n    </span>\\n   </td>\\n   <td class=\"Ta(end)\" data-reactid=\"163\">\\n    <span class=\"Trsdu(0.3s)\" data-reactid=\"164\">\\n     15.3B\\n    </span>\\n   </td>\\n   <td class=\"Ta(end)\" data-reactid=\"165\">\\n    <span class=\"Trsdu(0.3s)\" data-reactid=\"166\">\\n     18.83B\\n    </span>\\n   </td>\\n  </tr>\\n  <tr class=\"BdT Bdc($seperatorColor)\" data-reactid=\"167\">\\n   <td class=\"Py(10px) Ta(start)\" data-reactid=\"168\">\\n    <span data-reactid=\"169\">\\n     Sales Growth (year/est)\\n    </span>\\n   </td>\\n   <td class=\"Ta(end)\" data-reactid=\"170\">\\n    <span class=\"Trsdu(0.3s)\" data-reactid=\"171\">\\n     25.40%\\n    </span>\\n   </td>\\n   <td class=\"Ta(end)\" data-reactid=\"172\">\\n    <span class=\"Trsdu(0.3s)\" data-reactid=\"173\">\\n     22.20%\\n    </span>\\n   </td>\\n   <td class=\"Ta(end)\" data-reactid=\"174\">\\n    <span class=\"Trsdu(0.3s)\" data-reactid=\"175\">\\n     23.10%\\n    </span>\\n   </td>\\n   <td class=\"Ta(end)\" data-reactid=\"176\">\\n    <span class=\"Trsdu(0.3s)\" data-reactid=\"177\">\\n     19.70%\\n    </span>\\n   </td>\\n  </tr>\\n </tbody>\\n</table>\\n'"
      ]
     },
     "execution_count": 100,
     "metadata": {},
     "output_type": "execute_result"
    }
   ],
   "source": [
    "gdp_table = soup.find_all(\"table\", attrs={\"class\": \"W(100%) M(0) BdB Bdc($seperatorColor) Mb(25px)\"})\n",
    "gdp_table[1].prettify()"
   ]
  },
  {
   "cell_type": "code",
   "execution_count": null,
   "id": "97a5bba4",
   "metadata": {},
   "outputs": [],
   "source": []
  }
 ],
 "metadata": {
  "kernelspec": {
   "display_name": "Python 3 (ipykernel)",
   "language": "python",
   "name": "python3"
  },
  "language_info": {
   "codemirror_mode": {
    "name": "ipython",
    "version": 3
   },
   "file_extension": ".py",
   "mimetype": "text/x-python",
   "name": "python",
   "nbconvert_exporter": "python",
   "pygments_lexer": "ipython3",
   "version": "3.9.7"
  }
 },
 "nbformat": 4,
 "nbformat_minor": 5
}
